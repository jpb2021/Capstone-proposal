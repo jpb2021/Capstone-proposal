{
 "cells": [
  {
   "cell_type": "markdown",
   "metadata": {},
   "source": [
    "# Capstone proposal by Jean-Pierre Braun \n",
    "\n",
    "# Use of weather data to predict the energy production of the NIST photovoltaic arrays"
   ]
  },
  {
   "cell_type": "markdown",
   "metadata": {},
   "source": [
    "This notebook is a template for your project proposal.\n",
    "\n",
    "The details are outlined in the **Proposal** unit on the platform - you should address all points from those instructions with as many markdown/code cells as needed. This should include code, observations, discussions and the planned steps."
   ]
  },
  {
   "cell_type": "code",
   "execution_count": 1,
   "metadata": {},
   "outputs": [],
   "source": [
    "import webbrowser\n",
    "import numpy as np\n",
    "import pandas as pd"
   ]
  },
  {
   "cell_type": "markdown",
   "metadata": {},
   "source": [
    "## 1) The problem"
   ]
  },
  {
   "cell_type": "markdown",
   "metadata": {},
   "source": [
    "The cost benefit analysis of a photovoltaic (PV) installation requires the knowledge of both the type of solar panels used and the weather conditions on site. In effect, the value of the electricity generated over the life span of an installation must exceed the cost of its deployment. \n",
    "\n",
    "To undertake such a study, it is necessary to have at hand weather data, such as irradiation, ambient temperature and the typical weather patterns present on the site. Also necessary, is to have access to the PV array’s performance data such as the power generated for given weather conditions.\n",
    "\n",
    "To facilitate such studies, the NIST (National Institute of Standards and Technology) in the USA has installed three fully instrumented photovoltaic arrays as well as an ancillary weather station on its Gaithersburg (MD) campus. The data recorded between August 2014 and July 2017 is freely available on the NIST web site. \n",
    "\n",
    "The aim of this project is to use the machine learning technique taught in the course on the NIST data. More precisely, it is envisaged to create a model that links the power generated to the wheatear data from the metrological station. It will then be possible to predict the energy generated over a given time period for known weather conditions.\n",
    "\n",
    "A lot of information about this complete system is available from the following links: (run corresponding cell)."
   ]
  },
  {
   "cell_type": "code",
   "execution_count": 2,
   "metadata": {},
   "outputs": [
    {
     "data": {
      "text/plain": [
       "True"
      ]
     },
     "execution_count": 2,
     "metadata": {},
     "output_type": "execute_result"
    }
   ],
   "source": [
    "# Short overview of the NIST system (Three arrays and weather station)\n",
    "webbrowser.open_new_tab('https://www.nist.gov/el/energy-and-environment-division-73200/heat-transfer-alternative-energy-systems/photovoltaic')"
   ]
  },
  {
   "cell_type": "code",
   "execution_count": 3,
   "metadata": {},
   "outputs": [
    {
     "data": {
      "text/plain": [
       "True"
      ]
     },
     "execution_count": 3,
     "metadata": {},
     "output_type": "execute_result"
    }
   ],
   "source": [
    "# Descripton of the NIST PV arrays and its insrumentation\n",
    "webbrowser.open_new_tab('https://dx.doi.org/10.6028/NIST.TN.1896#page=13')"
   ]
  },
  {
   "cell_type": "code",
   "execution_count": 4,
   "metadata": {},
   "outputs": [
    {
     "data": {
      "text/plain": [
       "True"
      ]
     },
     "execution_count": 4,
     "metadata": {},
     "output_type": "execute_result"
    }
   ],
   "source": [
    "# Descripton of the NIST anciliary weather station and its instrumentation\n",
    "webbrowser.open_new_tab('https://dx.doi.org/10.6028/NIST.TN.1913#page=13')"
   ]
  },
  {
   "cell_type": "markdown",
   "metadata": {},
   "source": [
    "## 2) The data\n",
    "\n",
    "### (a) Clear overview of your data\n",
    "\n",
    "The data available are divided into five groups:\n",
    "\n",
    "- Parking lot cannopy array\n",
    "- Ground mount array\n",
    "- Roof tilted array\n",
    "- Rooftop weather station\n",
    "- Rooftop module test station\n",
    "\n",
    "The data is available for a period of four years starting January 2015 and ending December 2018. The data can be chosen with timestamp intervals of either 1 second (instantaneous values) or 1 min (averaged values). The data is contained in zip files, covering one group over a period of 1 year. Zip files have 12 directory (one per month) containing Excel files (csv format) covering a 24-hour period. Each csv file contains 1440 rows (number of minutes in a day) and 102 (array) or 49 (weather station) columns. The files containing the instantaneous values have 86400 rows (number of seconds in a day).Also available are the images taken by various surveillance cameras observing the complete installation as well as the sky. The pictures are updated every minute. \n",
    "\n",
    "The content of theses file can be summarised as follow: (see data dictionary on cell 6 for mor information)\n",
    "\n",
    "- Array data: Irradiance, ambient temperature, module temperature, wind, DC and AC electrical, etc.\n",
    "- Weather station: Irradiance (various types), snow depth, wind speed and direction, humidity, precipitation, barometric presssure, hail count, ambient temperature, etc.\n",
    "\n",
    "-----------------------\n",
    "\n",
    "The data can be interactively previewed on the NIST web site (next cell). Select the following parameters (on the web page) for a first test:\n",
    "- Location: Canopy\n",
    "- Table: OneMin\n",
    "- Field: RefCell1_Wm2_Avg, AmbTemp_C_Avg, InvPAC_kW_Avg, \n",
    "- Start Data: As desired\n",
    "- Camera: As desired\n",
    "\n",
    "These settings will display the irradiation, temperature and power produced. The data dictionary (see below) can help in selecting other parameters."
   ]
  },
  {
   "cell_type": "code",
   "execution_count": 2,
   "metadata": {},
   "outputs": [
    {
     "data": {
      "text/plain": [
       "True"
      ]
     },
     "execution_count": 2,
     "metadata": {},
     "output_type": "execute_result"
    }
   ],
   "source": [
    "# Visualisation of data\n",
    "webbrowser.open_new_tab('https://pvdata.nist.gov/')"
   ]
  },
  {
   "cell_type": "code",
   "execution_count": 6,
   "metadata": {},
   "outputs": [
    {
     "data": {
      "text/plain": [
       "True"
      ]
     },
     "execution_count": 6,
     "metadata": {},
     "output_type": "execute_result"
    }
   ],
   "source": [
    "# Data dictionary (if required)\n",
    "webbrowser.open_new_tab('https://www.nist.gov/system/files/documents/2017/10/04/datadictionary_supplementalcontent.pdf')"
   ]
  },
  {
   "cell_type": "code",
   "execution_count": 7,
   "metadata": {},
   "outputs": [
    {
     "name": "stdout",
     "output_type": "stream",
     "text": [
      "(1440, 102)\n"
     ]
    },
    {
     "data": {
      "text/html": [
       "<div>\n",
       "<style scoped>\n",
       "    .dataframe tbody tr th:only-of-type {\n",
       "        vertical-align: middle;\n",
       "    }\n",
       "\n",
       "    .dataframe tbody tr th {\n",
       "        vertical-align: top;\n",
       "    }\n",
       "\n",
       "    .dataframe thead th {\n",
       "        text-align: right;\n",
       "    }\n",
       "</style>\n",
       "<table border=\"1\" class=\"dataframe\">\n",
       "  <thead>\n",
       "    <tr style=\"text-align: right;\">\n",
       "      <th></th>\n",
       "      <th>TIMESTAMP</th>\n",
       "      <th>Pyra1_Wm2_Avg</th>\n",
       "      <th>Pyra2_Wm2_Avg</th>\n",
       "      <th>Pyra3_Wm2_Avg</th>\n",
       "      <th>RECORD</th>\n",
       "      <th>CR1000Temp_C_Avg</th>\n",
       "      <th>DoorOpen_Min</th>\n",
       "      <th>RefCell1_Wm2_Avg</th>\n",
       "      <th>RefCell2_Wm2_Avg</th>\n",
       "      <th>AmbTemp_C_Avg</th>\n",
       "      <th>...</th>\n",
       "      <th>RTD_C_Avg_1</th>\n",
       "      <th>RTD_C_Avg_2</th>\n",
       "      <th>RTD_C_Avg_3</th>\n",
       "      <th>RTD_C_Avg_4</th>\n",
       "      <th>RTD_C_Avg_5</th>\n",
       "      <th>RTD_C_Avg_6</th>\n",
       "      <th>RTD_C_Avg_7</th>\n",
       "      <th>RTD_C_Avg_8</th>\n",
       "      <th>RTD_C_Avg_9</th>\n",
       "      <th>RTD_C_Avg_10</th>\n",
       "    </tr>\n",
       "  </thead>\n",
       "  <tbody>\n",
       "    <tr>\n",
       "      <th>0</th>\n",
       "      <td>2018-01-01 00:00:00-05:00</td>\n",
       "      <td>-4.661181</td>\n",
       "      <td>-11.089881</td>\n",
       "      <td>-4.321073</td>\n",
       "      <td>320454.0</td>\n",
       "      <td>-9.96</td>\n",
       "      <td>0.0</td>\n",
       "      <td>-0.204</td>\n",
       "      <td>0.051</td>\n",
       "      <td>-10.54</td>\n",
       "      <td>...</td>\n",
       "      <td>-14.14</td>\n",
       "      <td>-14.36</td>\n",
       "      <td>-14.59</td>\n",
       "      <td>-14.02</td>\n",
       "      <td>-13.90</td>\n",
       "      <td>-14.46</td>\n",
       "      <td>-14.15</td>\n",
       "      <td>-14.32</td>\n",
       "      <td>-12.71</td>\n",
       "      <td>-7.353</td>\n",
       "    </tr>\n",
       "    <tr>\n",
       "      <th>1</th>\n",
       "      <td>2018-01-01 00:01:00-05:00</td>\n",
       "      <td>-4.661181</td>\n",
       "      <td>-11.089881</td>\n",
       "      <td>-4.321073</td>\n",
       "      <td>320455.0</td>\n",
       "      <td>-9.96</td>\n",
       "      <td>0.0</td>\n",
       "      <td>-0.204</td>\n",
       "      <td>0.051</td>\n",
       "      <td>-10.51</td>\n",
       "      <td>...</td>\n",
       "      <td>-14.13</td>\n",
       "      <td>-14.33</td>\n",
       "      <td>-14.43</td>\n",
       "      <td>-13.86</td>\n",
       "      <td>-13.76</td>\n",
       "      <td>-14.33</td>\n",
       "      <td>-14.06</td>\n",
       "      <td>-14.19</td>\n",
       "      <td>-12.66</td>\n",
       "      <td>-7.417</td>\n",
       "    </tr>\n",
       "    <tr>\n",
       "      <th>2</th>\n",
       "      <td>2018-01-01 00:02:00-05:00</td>\n",
       "      <td>-4.661181</td>\n",
       "      <td>-11.089881</td>\n",
       "      <td>-4.436302</td>\n",
       "      <td>320456.0</td>\n",
       "      <td>-9.96</td>\n",
       "      <td>0.0</td>\n",
       "      <td>-0.204</td>\n",
       "      <td>0.051</td>\n",
       "      <td>-10.60</td>\n",
       "      <td>...</td>\n",
       "      <td>-14.14</td>\n",
       "      <td>-14.33</td>\n",
       "      <td>-14.43</td>\n",
       "      <td>-13.86</td>\n",
       "      <td>-13.79</td>\n",
       "      <td>-14.36</td>\n",
       "      <td>-14.06</td>\n",
       "      <td>-14.15</td>\n",
       "      <td>-12.73</td>\n",
       "      <td>-7.417</td>\n",
       "    </tr>\n",
       "    <tr>\n",
       "      <th>3</th>\n",
       "      <td>2018-01-01 00:03:00-05:00</td>\n",
       "      <td>-4.661181</td>\n",
       "      <td>-11.089881</td>\n",
       "      <td>-4.321073</td>\n",
       "      <td>320457.0</td>\n",
       "      <td>-9.96</td>\n",
       "      <td>0.0</td>\n",
       "      <td>-0.204</td>\n",
       "      <td>0.051</td>\n",
       "      <td>-10.58</td>\n",
       "      <td>...</td>\n",
       "      <td>-14.14</td>\n",
       "      <td>-14.40</td>\n",
       "      <td>-14.43</td>\n",
       "      <td>-13.94</td>\n",
       "      <td>-13.83</td>\n",
       "      <td>-14.41</td>\n",
       "      <td>-14.06</td>\n",
       "      <td>-14.20</td>\n",
       "      <td>-12.77</td>\n",
       "      <td>-7.417</td>\n",
       "    </tr>\n",
       "    <tr>\n",
       "      <th>4</th>\n",
       "      <td>2018-01-01 00:04:00-05:00</td>\n",
       "      <td>-4.661181</td>\n",
       "      <td>-11.089881</td>\n",
       "      <td>-4.436302</td>\n",
       "      <td>320458.0</td>\n",
       "      <td>-9.96</td>\n",
       "      <td>0.0</td>\n",
       "      <td>-0.204</td>\n",
       "      <td>0.051</td>\n",
       "      <td>-10.64</td>\n",
       "      <td>...</td>\n",
       "      <td>-14.17</td>\n",
       "      <td>-14.45</td>\n",
       "      <td>-14.52</td>\n",
       "      <td>-14.05</td>\n",
       "      <td>-13.89</td>\n",
       "      <td>-14.46</td>\n",
       "      <td>-14.08</td>\n",
       "      <td>-14.24</td>\n",
       "      <td>-12.79</td>\n",
       "      <td>-7.417</td>\n",
       "    </tr>\n",
       "  </tbody>\n",
       "</table>\n",
       "<p>5 rows × 102 columns</p>\n",
       "</div>"
      ],
      "text/plain": [
       "                   TIMESTAMP  Pyra1_Wm2_Avg  Pyra2_Wm2_Avg  Pyra3_Wm2_Avg  \\\n",
       "0  2018-01-01 00:00:00-05:00      -4.661181     -11.089881      -4.321073   \n",
       "1  2018-01-01 00:01:00-05:00      -4.661181     -11.089881      -4.321073   \n",
       "2  2018-01-01 00:02:00-05:00      -4.661181     -11.089881      -4.436302   \n",
       "3  2018-01-01 00:03:00-05:00      -4.661181     -11.089881      -4.321073   \n",
       "4  2018-01-01 00:04:00-05:00      -4.661181     -11.089881      -4.436302   \n",
       "\n",
       "     RECORD  CR1000Temp_C_Avg  DoorOpen_Min  RefCell1_Wm2_Avg  \\\n",
       "0  320454.0             -9.96           0.0            -0.204   \n",
       "1  320455.0             -9.96           0.0            -0.204   \n",
       "2  320456.0             -9.96           0.0            -0.204   \n",
       "3  320457.0             -9.96           0.0            -0.204   \n",
       "4  320458.0             -9.96           0.0            -0.204   \n",
       "\n",
       "   RefCell2_Wm2_Avg  AmbTemp_C_Avg  ...  RTD_C_Avg_1  RTD_C_Avg_2  \\\n",
       "0             0.051         -10.54  ...       -14.14       -14.36   \n",
       "1             0.051         -10.51  ...       -14.13       -14.33   \n",
       "2             0.051         -10.60  ...       -14.14       -14.33   \n",
       "3             0.051         -10.58  ...       -14.14       -14.40   \n",
       "4             0.051         -10.64  ...       -14.17       -14.45   \n",
       "\n",
       "   RTD_C_Avg_3  RTD_C_Avg_4  RTD_C_Avg_5  RTD_C_Avg_6  RTD_C_Avg_7  \\\n",
       "0       -14.59       -14.02       -13.90       -14.46       -14.15   \n",
       "1       -14.43       -13.86       -13.76       -14.33       -14.06   \n",
       "2       -14.43       -13.86       -13.79       -14.36       -14.06   \n",
       "3       -14.43       -13.94       -13.83       -14.41       -14.06   \n",
       "4       -14.52       -14.05       -13.89       -14.46       -14.08   \n",
       "\n",
       "   RTD_C_Avg_8  RTD_C_Avg_9  RTD_C_Avg_10  \n",
       "0       -14.32       -12.71        -7.353  \n",
       "1       -14.19       -12.66        -7.417  \n",
       "2       -14.15       -12.73        -7.417  \n",
       "3       -14.20       -12.77        -7.417  \n",
       "4       -14.24       -12.79        -7.417  \n",
       "\n",
       "[5 rows x 102 columns]"
      ]
     },
     "execution_count": 7,
     "metadata": {},
     "output_type": "execute_result"
    }
   ],
   "source": [
    "# Import a cannopy array sample files in python\n",
    "df_canopy = pd.read_csv('onemin-Canopy-2018-01-01.csv')\n",
    "print(df_canopy.shape)\n",
    "df_canopy.head()"
   ]
  },
  {
   "cell_type": "code",
   "execution_count": 8,
   "metadata": {},
   "outputs": [
    {
     "name": "stdout",
     "output_type": "stream",
     "text": [
      "(1440, 49)\n"
     ]
    },
    {
     "data": {
      "text/html": [
       "<div>\n",
       "<style scoped>\n",
       "    .dataframe tbody tr th:only-of-type {\n",
       "        vertical-align: middle;\n",
       "    }\n",
       "\n",
       "    .dataframe tbody tr th {\n",
       "        vertical-align: top;\n",
       "    }\n",
       "\n",
       "    .dataframe thead th {\n",
       "        text-align: right;\n",
       "    }\n",
       "</style>\n",
       "<table border=\"1\" class=\"dataframe\">\n",
       "  <thead>\n",
       "    <tr style=\"text-align: right;\">\n",
       "      <th></th>\n",
       "      <th>TIMESTAMP</th>\n",
       "      <th>Pyrh1_Wm2_Avg</th>\n",
       "      <th>Pyrad1_Wm2_Avg</th>\n",
       "      <th>Pyra1_Wm2_Avg</th>\n",
       "      <th>Pyrg1_Wm2_Avg</th>\n",
       "      <th>UVA_Wm2_Avg</th>\n",
       "      <th>UVB_Wm2_Avg</th>\n",
       "      <th>Pyrg1_downwell_Wm2_Avg</th>\n",
       "      <th>RECORD</th>\n",
       "      <th>SolarTime_hr</th>\n",
       "      <th>...</th>\n",
       "      <th>SixInOneHeatStateID_Avg</th>\n",
       "      <th>WindValid_Avg</th>\n",
       "      <th>Battery_V_Min</th>\n",
       "      <th>Battery_A_Avg</th>\n",
       "      <th>Load_A_Avg</th>\n",
       "      <th>ChgState_Min</th>\n",
       "      <th>ChgSource_Min</th>\n",
       "      <th>CkBatt_Max</th>\n",
       "      <th>Qloss_Ah_Max</th>\n",
       "      <th>RelayState_Min</th>\n",
       "    </tr>\n",
       "  </thead>\n",
       "  <tbody>\n",
       "    <tr>\n",
       "      <th>0</th>\n",
       "      <td>2018-01-01 00:00:00-05:00</td>\n",
       "      <td>0.0</td>\n",
       "      <td>-1.041667</td>\n",
       "      <td>-5.764146</td>\n",
       "      <td>-97.772830</td>\n",
       "      <td>0.025379</td>\n",
       "      <td>0.392921</td>\n",
       "      <td>175.04398</td>\n",
       "      <td>296118</td>\n",
       "      <td>23.80</td>\n",
       "      <td>...</td>\n",
       "      <td>3.0</td>\n",
       "      <td>-1.0</td>\n",
       "      <td>13.08</td>\n",
       "      <td>0.009</td>\n",
       "      <td>3.018</td>\n",
       "      <td>3.0</td>\n",
       "      <td>1.0</td>\n",
       "      <td>0.0</td>\n",
       "      <td>0.0</td>\n",
       "      <td>15</td>\n",
       "    </tr>\n",
       "    <tr>\n",
       "      <th>1</th>\n",
       "      <td>2018-01-01 00:01:00-05:00</td>\n",
       "      <td>0.0</td>\n",
       "      <td>-1.041667</td>\n",
       "      <td>-5.764146</td>\n",
       "      <td>-97.995544</td>\n",
       "      <td>0.024244</td>\n",
       "      <td>0.391798</td>\n",
       "      <td>174.81833</td>\n",
       "      <td>296119</td>\n",
       "      <td>23.81</td>\n",
       "      <td>...</td>\n",
       "      <td>3.0</td>\n",
       "      <td>-1.0</td>\n",
       "      <td>13.08</td>\n",
       "      <td>0.009</td>\n",
       "      <td>3.019</td>\n",
       "      <td>3.0</td>\n",
       "      <td>1.0</td>\n",
       "      <td>0.0</td>\n",
       "      <td>0.0</td>\n",
       "      <td>15</td>\n",
       "    </tr>\n",
       "    <tr>\n",
       "      <th>2</th>\n",
       "      <td>2018-01-01 00:02:00-05:00</td>\n",
       "      <td>0.0</td>\n",
       "      <td>-1.041667</td>\n",
       "      <td>-5.764146</td>\n",
       "      <td>-97.995544</td>\n",
       "      <td>0.024554</td>\n",
       "      <td>0.419270</td>\n",
       "      <td>174.81833</td>\n",
       "      <td>296120</td>\n",
       "      <td>23.83</td>\n",
       "      <td>...</td>\n",
       "      <td>3.0</td>\n",
       "      <td>-1.0</td>\n",
       "      <td>13.08</td>\n",
       "      <td>0.008</td>\n",
       "      <td>3.014</td>\n",
       "      <td>3.0</td>\n",
       "      <td>1.0</td>\n",
       "      <td>0.0</td>\n",
       "      <td>0.0</td>\n",
       "      <td>15</td>\n",
       "    </tr>\n",
       "    <tr>\n",
       "      <th>3</th>\n",
       "      <td>2018-01-01 00:03:00-05:00</td>\n",
       "      <td>0.0</td>\n",
       "      <td>-1.041667</td>\n",
       "      <td>-5.764146</td>\n",
       "      <td>-97.995544</td>\n",
       "      <td>0.025070</td>\n",
       "      <td>0.476405</td>\n",
       "      <td>174.69394</td>\n",
       "      <td>296121</td>\n",
       "      <td>23.85</td>\n",
       "      <td>...</td>\n",
       "      <td>3.0</td>\n",
       "      <td>-1.0</td>\n",
       "      <td>13.08</td>\n",
       "      <td>0.009</td>\n",
       "      <td>3.013</td>\n",
       "      <td>3.0</td>\n",
       "      <td>1.0</td>\n",
       "      <td>0.0</td>\n",
       "      <td>0.0</td>\n",
       "      <td>15</td>\n",
       "    </tr>\n",
       "    <tr>\n",
       "      <th>4</th>\n",
       "      <td>2018-01-01 00:04:00-05:00</td>\n",
       "      <td>0.0</td>\n",
       "      <td>-1.041667</td>\n",
       "      <td>-5.764146</td>\n",
       "      <td>-97.995544</td>\n",
       "      <td>0.025689</td>\n",
       "      <td>0.436405</td>\n",
       "      <td>174.65259</td>\n",
       "      <td>296122</td>\n",
       "      <td>23.86</td>\n",
       "      <td>...</td>\n",
       "      <td>3.0</td>\n",
       "      <td>-1.0</td>\n",
       "      <td>13.08</td>\n",
       "      <td>0.009</td>\n",
       "      <td>3.016</td>\n",
       "      <td>3.0</td>\n",
       "      <td>1.0</td>\n",
       "      <td>0.0</td>\n",
       "      <td>0.0</td>\n",
       "      <td>15</td>\n",
       "    </tr>\n",
       "  </tbody>\n",
       "</table>\n",
       "<p>5 rows × 49 columns</p>\n",
       "</div>"
      ],
      "text/plain": [
       "                   TIMESTAMP  Pyrh1_Wm2_Avg  Pyrad1_Wm2_Avg  Pyra1_Wm2_Avg  \\\n",
       "0  2018-01-01 00:00:00-05:00            0.0       -1.041667      -5.764146   \n",
       "1  2018-01-01 00:01:00-05:00            0.0       -1.041667      -5.764146   \n",
       "2  2018-01-01 00:02:00-05:00            0.0       -1.041667      -5.764146   \n",
       "3  2018-01-01 00:03:00-05:00            0.0       -1.041667      -5.764146   \n",
       "4  2018-01-01 00:04:00-05:00            0.0       -1.041667      -5.764146   \n",
       "\n",
       "   Pyrg1_Wm2_Avg  UVA_Wm2_Avg  UVB_Wm2_Avg  Pyrg1_downwell_Wm2_Avg  RECORD  \\\n",
       "0     -97.772830     0.025379     0.392921               175.04398  296118   \n",
       "1     -97.995544     0.024244     0.391798               174.81833  296119   \n",
       "2     -97.995544     0.024554     0.419270               174.81833  296120   \n",
       "3     -97.995544     0.025070     0.476405               174.69394  296121   \n",
       "4     -97.995544     0.025689     0.436405               174.65259  296122   \n",
       "\n",
       "   SolarTime_hr  ...  SixInOneHeatStateID_Avg  WindValid_Avg  Battery_V_Min  \\\n",
       "0         23.80  ...                      3.0           -1.0          13.08   \n",
       "1         23.81  ...                      3.0           -1.0          13.08   \n",
       "2         23.83  ...                      3.0           -1.0          13.08   \n",
       "3         23.85  ...                      3.0           -1.0          13.08   \n",
       "4         23.86  ...                      3.0           -1.0          13.08   \n",
       "\n",
       "   Battery_A_Avg  Load_A_Avg  ChgState_Min  ChgSource_Min  CkBatt_Max  \\\n",
       "0          0.009       3.018           3.0            1.0         0.0   \n",
       "1          0.009       3.019           3.0            1.0         0.0   \n",
       "2          0.008       3.014           3.0            1.0         0.0   \n",
       "3          0.009       3.013           3.0            1.0         0.0   \n",
       "4          0.009       3.016           3.0            1.0         0.0   \n",
       "\n",
       "   Qloss_Ah_Max  RelayState_Min  \n",
       "0           0.0              15  \n",
       "1           0.0              15  \n",
       "2           0.0              15  \n",
       "3           0.0              15  \n",
       "4           0.0              15  \n",
       "\n",
       "[5 rows x 49 columns]"
      ]
     },
     "execution_count": 8,
     "metadata": {},
     "output_type": "execute_result"
    }
   ],
   "source": [
    "# Import a weather station sample files in python\n",
    "df_WS = pd.read_csv('onemin-WS_1-2018-01-01.csv')\n",
    "print(df_WS.shape)\n",
    "df_WS.head()"
   ]
  },
  {
   "cell_type": "markdown",
   "metadata": {},
   "source": [
    "### (b) Plan to manage and process the data"
   ]
  },
  {
   "cell_type": "markdown",
   "metadata": {},
   "source": [
    "The data supplied by NIST is well organised, but in it its present form it is not suitable for analysis. The main problem is that the data is spread over 1500 spreadsheets, each corresponding to one physical location and one calendar day. The first task will be the merging of all these data into a database so that the relevant data can then be easily extracted into DataFrames suitable for analysis. A second problem is the high time resolution of the data as well as the duration over which (four years) the data have been collected. It is unlikely that all these data will fit in a PC ‘s memory nor that it can be processed in a reasonable amount of time. This call for multiple analysis over shorter time intervals. This will be greatly facilitated by the use of a database.\n",
    "\n",
    "The creation of the database will require a high degree of automation of the data extraction, clean up and storage. The database will have the following table structure:\n",
    "- Ground array data\n",
    "- Canopy array data\n",
    "- Roof array data\n",
    "- Weather station array data\n",
    "- Weather station data\n",
    "\n",
    "All the tables will contain only the 1-minute average data. At this stage, it is not envisaged to use the instantaneous values. Each of these data table sets will be a continuous time series over the full four years.  This implies that each table will contain over two millions rows (60 minutes * 24 hours * 365 day * 4 years). Shorter time interval can then be extracted into DataFrame.\n",
    "\n",
    "Concisely the automation will consist in opening sequentially all the data, clean them up and store them into the database. Only clean data are allowed into the database. The clean-up consists in the search for missing data, verification of the continuity of the time-series as well a search for non-valid data format. It is expected that the data be of high quality as the NIST system is fully automatic, but no assumption is made at this stage. It is essential, that the data clean-up can be fully automated."
   ]
  },
  {
   "cell_type": "markdown",
   "metadata": {},
   "source": [
    "## 3) Exploratory data analysis (EDA)"
   ]
  },
  {
   "cell_type": "markdown",
   "metadata": {},
   "source": [
    "### (a) Preliminary EDA"
   ]
  },
  {
   "cell_type": "markdown",
   "metadata": {},
   "source": [
    "The first EDA aim in this project is to identify the most relevant data for the modelling effort. The NIST data provide a large amount of data that include power generation, weather information and other technical data. The task is to determine which parameters influence most on the generation of electrical power. \n",
    "The following two publications provide some initial information:\n",
    "\n",
    "- Solar PV Generation Forecast Model Based on the Most Effective Weather Parameters, Muhammad Asim Munir;Abraiz Khattak;Kashif Imran;Abasin Ulasyar;Adeel Khan, 2019 International Conference on Electrical, Communication, and Computer Engineering (ICECCE)\n",
    "- Assessing the Utility of Weather Data for Photovoltaic Power Prediction, Reza Zafarani, Sara Effekharnejad and Urvi Patel, 2018 arXiv\n",
    "\n",
    "The following preliminary EDA are envisaged at this time (It is likely that this list will grow with data familiarisation):\n",
    "- Statistical analysis and visualisation of weather data (min, max, mean, stdev, correleation, etc)\n",
    "- Grouping of energy generation into classes 'of typical days'. The days will be classified by the energy produced (Data exploration)\n",
    "- Grouping of the weather situation into classes of typical weather (Data exploration)\n",
    "- Investigation if these two groups can used to form some initial baseline"
   ]
  },
  {
   "cell_type": "markdown",
   "metadata": {},
   "source": [
    "### (b) How does the EDA inform your project plan?\n",
    "\n",
    "\n",
    "\n",
    "\n",
    "\n",
    "\n"
   ]
  },
  {
   "cell_type": "markdown",
   "metadata": {},
   "source": [
    "The experience I gained so far into this course, is that familiarisation with data is an essential ingredient for the proper use of the various models used throughout the course. The blind use of models is in my opinion a recipe for disaster (The ‘danger zone’ shown in the data science skillset presented in the first lesson). Therefore, at this stage, I believe that before some ‘wrestling’ with the data has been done, it is difficult to respond how the EDA will inform my project plan. I will only be able to answer this question when I acquire a better feel of the data. "
   ]
  },
  {
   "cell_type": "markdown",
   "metadata": {},
   "source": [
    "### (c) What further EDA do you plan for project?"
   ]
  },
  {
   "cell_type": "markdown",
   "metadata": {},
   "source": [
    "The power generated by the arrays is caused primarily by to the irradiance on the PV solar cells (energy conversion). Based on the following paper, this relationship is deterministic:\n",
    "\n",
    "Evaluation and validation of equivalent circuit photovoltaic solar cell performance models, M. T. Boyd, S. A. Klein, D. T. Reindl, B. P. Dougherty, Journal of Solar Energy Engineering, Vol 133, May 2011\n",
    "\n",
    "Therefore, this relationship between irradiance and power generated could be explored during the EDA phase through polynomial fitting. If this investigation leads to some useable results, the overall project would boil down to the prediction of the irradiance from the weather data.\n"
   ]
  },
  {
   "cell_type": "markdown",
   "metadata": {},
   "source": [
    "## 4) Machine learning "
   ]
  },
  {
   "cell_type": "markdown",
   "metadata": {},
   "source": [
    "### (a) Phrase your project goal as a clear machine learning question"
   ]
  },
  {
   "cell_type": "markdown",
   "metadata": {},
   "source": [
    "The machine learning question aims to establish a model relating weather conditions (sun irradiation, temperature, humidity, wind, etc) to the power generated by the PV arrays. This model should then be able to predict the power generation for known weather conditions with a good accuracy. In this project the large amount of data available, provides ample of date to train and test machine learning algorithms. Such a model could ultimately predict energy production from weather forecast."
   ]
  },
  {
   "cell_type": "markdown",
   "metadata": {},
   "source": [
    "### (b) What models are you planning to use and why?"
   ]
  },
  {
   "cell_type": "markdown",
   "metadata": {},
   "source": [
    "- K-nearest neighbors\n",
    "\n",
    "K-N nearest neighbours appears an easy way to start the modelisation, and it is perceived that both the weather and array data and array data could fit into clusters. \n",
    "\n",
    "- Support vector machine (SVM)\n",
    "\n",
    "SVM and ANN are often reported in the literature as the machine learning technique used in this specific problem. It is perceived that this method may refine the results from the K-nearest neighbours. The use of new features and kernel may be adapted for the nonlinearity of the data. \n",
    "\n",
    "- Artifical Neural networks (ANN)\n",
    "\n",
    "ANN are well suited for highly nonlinear data such as weather. It also a technique that can be started with a simple network and can be made progressively more sophisticated. "
   ]
  },
  {
   "cell_type": "markdown",
   "metadata": {},
   "source": [
    "### (c) Please tell us your detailed machine learning strategy "
   ]
  },
  {
   "cell_type": "markdown",
   "metadata": {},
   "source": [
    "At this stage, my strategy is very embryonic as this project is rather overwhelming. Thus, the strategy will be an incremental one that will start with a limited number of parameters over a limited time interval. The three machine learning algorithmic will be explored simultaneously. The models will be progressively refined as the project progresses. It will be very much a trial and error approach."
   ]
  },
  {
   "cell_type": "markdown",
   "metadata": {},
   "source": [
    "## 5) Additional information\n",
    "\n",
    "From the experience gained with the various projects of this course, a deeper familiarisation with the data occurs generally at the ‘time of doing’ and this may influence the various phases of the project. Therefore, while the goals and objectives will remain identical, the details of the implementation may diverge from those outlined in the proposal."
   ]
  },
  {
   "cell_type": "code",
   "execution_count": null,
   "metadata": {},
   "outputs": [],
   "source": []
  }
 ],
 "metadata": {
  "kernelspec": {
   "display_name": "Python 3",
   "language": "python",
   "name": "python3"
  },
  "language_info": {
   "codemirror_mode": {
    "name": "ipython",
    "version": 3
   },
   "file_extension": ".py",
   "mimetype": "text/x-python",
   "name": "python",
   "nbconvert_exporter": "python",
   "pygments_lexer": "ipython3",
   "version": "3.6.12"
  }
 },
 "nbformat": 4,
 "nbformat_minor": 4
}
